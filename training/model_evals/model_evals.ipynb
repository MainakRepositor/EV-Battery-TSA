{
 "cells": [
  {
   "cell_type": "markdown",
   "id": "6a6de6cd-35ac-4f7e-99cd-b736e51cd544",
   "metadata": {},
   "source": [
    "## Combined SOC Prediction - Model Evaluation\n",
    "Uses discharge cycles from both the LG and Panasonic datasets.\n",
    "\n",
    "LG 18650HG2 Li-ion Battery Data - https://data.mendeley.com/datasets/cp3473x7xv/3\n",
    "\n",
    "Panasonic 18650PF Li-ion Battery Data - https://data.mendeley.com/datasets/wykht8y7tg/1\n",
    "\n",
    "Kollmeyer, Philip; Vidal, Carlos; Naguib, Mina; Skells, Michael  (2020), “LG 18650HG2 Li-ion Battery Data and Example Deep Neural Network xEV SOC Estimator Script”, Mendeley Data, V3, doi: 10.17632/cp3473x7xv.3\n",
    "\n",
    "Kollmeyer, Phillip (2018), “Panasonic 18650PF Li-ion Battery Data”, Mendeley Data, V1, doi: 10.17632/wykht8y7tg.1"
   ]
  },
  {
   "cell_type": "code",
   "execution_count": 1,
   "id": "4308fae0",
   "metadata": {
    "tags": []
   },
   "outputs": [
    {
     "name": "stderr",
     "output_type": "stream",
     "text": [
      "2023-04-03 02:52:26.323542: I tensorflow/core/platform/cpu_feature_guard.cc:193] This TensorFlow binary is optimized with oneAPI Deep Neural Network Library (oneDNN) to use the following CPU instructions in performance-critical operations:  AVX2 FMA\n",
      "To enable them in other operations, rebuild TensorFlow with the appropriate compiler flags.\n",
      "2023-04-03 02:52:27.337589: W tensorflow/stream_executor/platform/default/dso_loader.cc:64] Could not load dynamic library 'libcudart.so.11.0'; dlerror: libcudart.so.11.0: cannot open shared object file: No such file or directory\n",
      "2023-04-03 02:52:27.337650: I tensorflow/stream_executor/cuda/cudart_stub.cc:29] Ignore above cudart dlerror if you do not have a GPU set up on your machine.\n",
      "2023-04-03 02:52:27.452516: E tensorflow/stream_executor/cuda/cuda_blas.cc:2981] Unable to register cuBLAS factory: Attempting to register factory for plugin cuBLAS when one has already been registered\n",
      "2023-04-03 02:52:29.749809: W tensorflow/stream_executor/platform/default/dso_loader.cc:64] Could not load dynamic library 'libnvinfer.so.7'; dlerror: libnvinfer.so.7: cannot open shared object file: No such file or directory\n",
      "2023-04-03 02:52:29.750023: W tensorflow/stream_executor/platform/default/dso_loader.cc:64] Could not load dynamic library 'libnvinfer_plugin.so.7'; dlerror: libnvinfer_plugin.so.7: cannot open shared object file: No such file or directory\n",
      "2023-04-03 02:52:29.750035: W tensorflow/compiler/tf2tensorrt/utils/py_utils.cc:38] TF-TRT Warning: Cannot dlopen some TensorRT libraries. If you would like to use Nvidia GPU with TensorRT, please make sure the missing libraries mentioned above are installed properly.\n"
     ]
    }
   ],
   "source": [
    "import os\n",
    "import sys\n",
    "import IPython\n",
    "import IPython.display\n",
    "import pandas as pd\n",
    "import matplotlib.pyplot as plt\n",
    "import seaborn as sns\n",
    "import numpy as np\n",
    "import pandas as pd\n",
    "import collections\n",
    "from datetime import datetime, timedelta\n",
    "\n",
    "import tensorflow as tf\n",
    "from tensorflow import keras\n",
    "from tensorflow.keras import layers\n",
    "\n",
    "base_path = '../../'\n",
    "\n",
    "sys.path.append(base_path)\n",
    "from training import utils\n",
    "\n",
    "panasonic_data_path = base_path + 'datasets/Panasonic_18650PF'\n",
    "lg_data_path = base_path + 'datasets/LG_18650HG2'\n",
    "\n",
    "resample_1hz = True\n",
    "vi_averages = True"
   ]
  },
  {
   "cell_type": "markdown",
   "id": "7012fc0f-2b1e-4941-9631-762252863e1b",
   "metadata": {},
   "source": [
    "## Load LG, Merged Test Data (1Hz)"
   ]
  },
  {
   "cell_type": "code",
   "execution_count": 2,
   "id": "497b1808-d4db-48f0-99dc-ffd80c49b527",
   "metadata": {},
   "outputs": [],
   "source": [
    "merged_dnn_cnn_columns = ['Voltage', 'Current', 'Voltage Average', 'Current Average', 'Temperature', 'Capacity']\n",
    "lg_dnn_cnn_columns = ['Voltage', 'Current', 'Temperature', 'Power', 'Capacity', 'Voltage Average', 'Current Average', 'Power Average']\n",
    "lstm_columns = ['Voltage', 'Current', 'Voltage Average', 'Current Average', 'Temperature', 'Capacity']"
   ]
  },
  {
   "cell_type": "code",
   "execution_count": 3,
   "id": "80a7708a-7685-4454-88d8-1af73c0bf8bc",
   "metadata": {},
   "outputs": [],
   "source": [
    "lg_charge_cycles = ['Charge']\n",
    "\n",
    "lg_test_temps = ['n10degC', '0degC', '10degC', '25degC']\n",
    "lg_test_discharge_cycles = ['UDDS', 'HWFET', 'Mixed1', 'Mixed2' ]\n",
    "\n",
    "panasonic_test_temps = ['n10degC', '0degC', '10degC', '25degC']\n",
    "panasonic_test_discharge_cycles = ['US06', 'LA92', 'Cycle_3', 'Cycle_4']"
   ]
  },
  {
   "cell_type": "code",
   "execution_count": 4,
   "id": "06e8a249-52f2-4388-b5eb-7e960de2d8b3",
   "metadata": {
    "tags": []
   },
   "outputs": [
    {
     "name": "stdout",
     "output_type": "stream",
     "text": [
      "../../datasets/LG_18650HG2/25degC/551_UDDS.csv 159646\n",
      "../../datasets/LG_18650HG2/25degC/551_HWFET.csv 6002\n",
      "../../datasets/LG_18650HG2/25degC/551_Mixed1.csv 77227\n",
      "../../datasets/LG_18650HG2/25degC/551_Mixed2.csv 79172\n",
      "../../datasets/LG_18650HG2/10degC/567_Mixed1.csv 72329\n",
      "../../datasets/LG_18650HG2/10degC/567_Mixed2.csv 77752\n",
      "../../datasets/LG_18650HG2/10degC/576_UDDS.csv 148898\n",
      "../../datasets/LG_18650HG2/10degC/576_HWFET.csv 52878\n",
      "../../datasets/LG_18650HG2/0degC/589_UDDS.csv 140435\n",
      "../../datasets/LG_18650HG2/0degC/589_HWFET.csv 49678\n",
      "../../datasets/LG_18650HG2/0degC/589_Mixed1.csv 67312\n",
      "../../datasets/LG_18650HG2/0degC/589_Mixed2.csv 72303\n",
      "../../datasets/LG_18650HG2/n10degC/596_UDDS.csv 123602\n",
      "../../datasets/LG_18650HG2/n10degC/596_HWFET.csv 44903\n",
      "../../datasets/LG_18650HG2/n10degC/601_Mixed1.csv 62622\n",
      "../../datasets/LG_18650HG2/n10degC/601_Mixed2.csv 65254\n",
      "../../datasets/Panasonic_18650PF/0degC/Drive cycles/06-01-17_10.36 0degC_LA92_Pan18650PF.csv 82666\n",
      "../../datasets/Panasonic_18650PF/0degC/Drive cycles/06-01-17_15.36 0degC_Cycle_3_Pan18650PF.csv 62466\n",
      "../../datasets/Panasonic_18650PF/0degC/Drive cycles/06-01-17_22.03 0degC_Cycle_4_Pan18650PF.csv 77052\n",
      "../../datasets/Panasonic_18650PF/0degC/Drive cycles/06-02-17_04.58 0degC_US06_Pan18650PF.csv 36632\n",
      "../../datasets/Panasonic_18650PF/10degC/Drive Cycles/03-27-17_09.06 10degC_LA92_Pan18650PF.csv 125951\n",
      "../../datasets/Panasonic_18650PF/10degC/Drive Cycles/03-27-17_09.06 10degC_US06_Pan18650PF.csv 42000\n",
      "../../datasets/Panasonic_18650PF/10degC/Drive Cycles/04-05-17_17.04 10degC_Cycle_3_Pan18650PF.csv 100796\n",
      "../../datasets/Panasonic_18650PF/10degC/Drive Cycles/04-05-17_22.50 10degC_Cycle_4_Pan18650PF.csv 98987\n",
      "../../datasets/Panasonic_18650PF/25degC/Drive cycles/03-19-17_09.07 25degC_Cycle_3_Pan18650PF.csv 102441\n",
      "../../datasets/Panasonic_18650PF/25degC/Drive cycles/03-19-17_14.31 25degC_Cycle_4_Pan18650PF.csv 120863\n",
      "../../datasets/Panasonic_18650PF/25degC/Drive cycles/03-20-17_01.43 25degC_US06_Pan18650PF.csv 48061\n",
      "../../datasets/Panasonic_18650PF/25degC/Drive cycles/03-21-17_09.38 25degC_LA92_Pan18650PF.csv 140874\n",
      "../../datasets/Panasonic_18650PF/n10degC/Drive Cycles/06-07-17_08.39 n10degC_LA92_Pan18650PF.csv 69568\n",
      "../../datasets/Panasonic_18650PF/n10degC/Drive Cycles/06-07-17_08.39 n10degC_US06_Pan18650PF.csv 31197\n",
      "../../datasets/Panasonic_18650PF/n10degC/Drive Cycles/06-11-17_01.39 n10degC_Cycle_3_Pan18650PF.csv 56857\n",
      "../../datasets/Panasonic_18650PF/n10degC/Drive Cycles/06-11-17_08.42 n10degC_Cycle_4_Pan18650PF.csv 61102\n"
     ]
    }
   ],
   "source": [
    "lg_test_files = utils.lg_get_files(lg_data_path, \n",
    "                                   lg_test_discharge_cycles,\n",
    "                                   lg_charge_cycles, \n",
    "                                   lg_test_temps)\n",
    "\n",
    "panasonic_test_files = utils.panasonic_get_files(panasonic_data_path, \n",
    "                                                 panasonic_test_discharge_cycles,\n",
    "                                                 panasonic_test_temps)\n",
    "\n",
    "for file in panasonic_test_files:\n",
    "    if \"UDDS_LA92\" in file or \"LA92_NN\" in file:\n",
    "        panasonic_test_files.remove(file)\n",
    "        \n",
    "lg_test, lg_test_norm = utils.lg_create_dataset(lg_test_files, \n",
    "                                                lg_test_discharge_cycles, \n",
    "                                                lg_charge_cycles, \n",
    "                                                vi_averages, \n",
    "                                                resample_1hz)\n",
    "\n",
    "panasonic_test, panasonic_test_norm = utils.panasonic_create_dataset(panasonic_test_files, \n",
    "                                                                     panasonic_test_discharge_cycles, \n",
    "                                                                     vi_averages, \n",
    "                                                                     resample_1hz)"
   ]
  },
  {
   "cell_type": "code",
   "execution_count": 5,
   "id": "1ef630b7-03a0-483a-9b4e-e45f5aa46138",
   "metadata": {},
   "outputs": [
    {
     "data": {
      "text/html": [
       "<div>\n",
       "<style scoped>\n",
       "    .dataframe tbody tr th:only-of-type {\n",
       "        vertical-align: middle;\n",
       "    }\n",
       "\n",
       "    .dataframe tbody tr th {\n",
       "        vertical-align: top;\n",
       "    }\n",
       "\n",
       "    .dataframe thead th {\n",
       "        text-align: right;\n",
       "    }\n",
       "</style>\n",
       "<table border=\"1\" class=\"dataframe\">\n",
       "  <thead>\n",
       "    <tr style=\"text-align: right;\">\n",
       "      <th>Time Stamp</th>\n",
       "      <th>Voltage</th>\n",
       "      <th>Current</th>\n",
       "      <th>Temperature</th>\n",
       "      <th>Power</th>\n",
       "      <th>Capacity</th>\n",
       "      <th>Voltage Average</th>\n",
       "      <th>Current Average</th>\n",
       "      <th>Power Average</th>\n",
       "    </tr>\n",
       "  </thead>\n",
       "  <tbody>\n",
       "    <tr>\n",
       "      <th>count</th>\n",
       "      <td>112931.000000</td>\n",
       "      <td>112931.000000</td>\n",
       "      <td>112931.000000</td>\n",
       "      <td>112931.000000</td>\n",
       "      <td>112931.000000</td>\n",
       "      <td>112931.000000</td>\n",
       "      <td>112931.000000</td>\n",
       "      <td>112931.000000</td>\n",
       "    </tr>\n",
       "    <tr>\n",
       "      <th>mean</th>\n",
       "      <td>0.633440</td>\n",
       "      <td>0.693250</td>\n",
       "      <td>0.463483</td>\n",
       "      <td>0.619687</td>\n",
       "      <td>0.508268</td>\n",
       "      <td>0.610681</td>\n",
       "      <td>0.764340</td>\n",
       "      <td>0.746015</td>\n",
       "    </tr>\n",
       "    <tr>\n",
       "      <th>std</th>\n",
       "      <td>0.183403</td>\n",
       "      <td>0.091121</td>\n",
       "      <td>0.334283</td>\n",
       "      <td>0.097508</td>\n",
       "      <td>0.278759</td>\n",
       "      <td>0.209849</td>\n",
       "      <td>0.206260</td>\n",
       "      <td>0.225943</td>\n",
       "    </tr>\n",
       "    <tr>\n",
       "      <th>min</th>\n",
       "      <td>0.000000</td>\n",
       "      <td>0.000000</td>\n",
       "      <td>0.000000</td>\n",
       "      <td>0.000000</td>\n",
       "      <td>0.000000</td>\n",
       "      <td>0.000000</td>\n",
       "      <td>0.000000</td>\n",
       "      <td>0.000000</td>\n",
       "    </tr>\n",
       "    <tr>\n",
       "      <th>25%</th>\n",
       "      <td>0.510840</td>\n",
       "      <td>0.646543</td>\n",
       "      <td>0.268222</td>\n",
       "      <td>0.566116</td>\n",
       "      <td>0.278374</td>\n",
       "      <td>0.443814</td>\n",
       "      <td>0.658521</td>\n",
       "      <td>0.644669</td>\n",
       "    </tr>\n",
       "    <tr>\n",
       "      <th>50%</th>\n",
       "      <td>0.635422</td>\n",
       "      <td>0.707464</td>\n",
       "      <td>0.533528</td>\n",
       "      <td>0.632830</td>\n",
       "      <td>0.491650</td>\n",
       "      <td>0.603989</td>\n",
       "      <td>0.824125</td>\n",
       "      <td>0.808537</td>\n",
       "    </tr>\n",
       "    <tr>\n",
       "      <th>75%</th>\n",
       "      <td>0.776015</td>\n",
       "      <td>0.735598</td>\n",
       "      <td>0.935860</td>\n",
       "      <td>0.663817</td>\n",
       "      <td>0.753426</td>\n",
       "      <td>0.788472</td>\n",
       "      <td>0.932516</td>\n",
       "      <td>0.931963</td>\n",
       "    </tr>\n",
       "    <tr>\n",
       "      <th>max</th>\n",
       "      <td>1.000000</td>\n",
       "      <td>1.000000</td>\n",
       "      <td>1.000000</td>\n",
       "      <td>1.000000</td>\n",
       "      <td>1.000000</td>\n",
       "      <td>1.000000</td>\n",
       "      <td>1.000000</td>\n",
       "      <td>1.000000</td>\n",
       "    </tr>\n",
       "  </tbody>\n",
       "</table>\n",
       "</div>"
      ],
      "text/plain": [
       "Time Stamp        Voltage        Current    Temperature          Power  \\\n",
       "count       112931.000000  112931.000000  112931.000000  112931.000000   \n",
       "mean             0.633440       0.693250       0.463483       0.619687   \n",
       "std              0.183403       0.091121       0.334283       0.097508   \n",
       "min              0.000000       0.000000       0.000000       0.000000   \n",
       "25%              0.510840       0.646543       0.268222       0.566116   \n",
       "50%              0.635422       0.707464       0.533528       0.632830   \n",
       "75%              0.776015       0.735598       0.935860       0.663817   \n",
       "max              1.000000       1.000000       1.000000       1.000000   \n",
       "\n",
       "Time Stamp       Capacity  Voltage Average  Current Average  Power Average  \n",
       "count       112931.000000    112931.000000    112931.000000  112931.000000  \n",
       "mean             0.508268         0.610681         0.764340       0.746015  \n",
       "std              0.278759         0.209849         0.206260       0.225943  \n",
       "min              0.000000         0.000000         0.000000       0.000000  \n",
       "25%              0.278374         0.443814         0.658521       0.644669  \n",
       "50%              0.491650         0.603989         0.824125       0.808537  \n",
       "75%              0.753426         0.788472         0.932516       0.931963  \n",
       "max              1.000000         1.000000         1.000000       1.000000  "
      ]
     },
     "execution_count": 5,
     "metadata": {},
     "output_type": "execute_result"
    }
   ],
   "source": [
    "lg_test_norm.describe()"
   ]
  },
  {
   "cell_type": "code",
   "execution_count": 6,
   "id": "b82ae858-905b-4b80-93a3-b086c13411a7",
   "metadata": {},
   "outputs": [
    {
     "data": {
      "text/html": [
       "<div>\n",
       "<style scoped>\n",
       "    .dataframe tbody tr th:only-of-type {\n",
       "        vertical-align: middle;\n",
       "    }\n",
       "\n",
       "    .dataframe tbody tr th {\n",
       "        vertical-align: top;\n",
       "    }\n",
       "\n",
       "    .dataframe thead th {\n",
       "        text-align: right;\n",
       "    }\n",
       "</style>\n",
       "<table border=\"1\" class=\"dataframe\">\n",
       "  <thead>\n",
       "    <tr style=\"text-align: right;\">\n",
       "      <th></th>\n",
       "      <th>Voltage</th>\n",
       "      <th>Current</th>\n",
       "      <th>Temperature</th>\n",
       "      <th>Power</th>\n",
       "      <th>Capacity</th>\n",
       "      <th>Voltage Average</th>\n",
       "      <th>Current Average</th>\n",
       "      <th>Power Average</th>\n",
       "    </tr>\n",
       "  </thead>\n",
       "  <tbody>\n",
       "    <tr>\n",
       "      <th>count</th>\n",
       "      <td>118259.000000</td>\n",
       "      <td>118259.000000</td>\n",
       "      <td>118259.000000</td>\n",
       "      <td>118259.000000</td>\n",
       "      <td>118259.000000</td>\n",
       "      <td>118259.000000</td>\n",
       "      <td>118259.000000</td>\n",
       "      <td>118259.000000</td>\n",
       "    </tr>\n",
       "    <tr>\n",
       "      <th>mean</th>\n",
       "      <td>0.642341</td>\n",
       "      <td>0.636101</td>\n",
       "      <td>0.524135</td>\n",
       "      <td>0.555323</td>\n",
       "      <td>0.482904</td>\n",
       "      <td>0.555842</td>\n",
       "      <td>0.665536</td>\n",
       "      <td>0.620162</td>\n",
       "    </tr>\n",
       "    <tr>\n",
       "      <th>std</th>\n",
       "      <td>0.150859</td>\n",
       "      <td>0.067816</td>\n",
       "      <td>0.281902</td>\n",
       "      <td>0.078962</td>\n",
       "      <td>0.289502</td>\n",
       "      <td>0.215397</td>\n",
       "      <td>0.216903</td>\n",
       "      <td>0.230134</td>\n",
       "    </tr>\n",
       "    <tr>\n",
       "      <th>min</th>\n",
       "      <td>0.000000</td>\n",
       "      <td>0.000000</td>\n",
       "      <td>0.000000</td>\n",
       "      <td>0.000000</td>\n",
       "      <td>0.000000</td>\n",
       "      <td>0.000000</td>\n",
       "      <td>0.000000</td>\n",
       "      <td>0.000000</td>\n",
       "    </tr>\n",
       "    <tr>\n",
       "      <th>25%</th>\n",
       "      <td>0.542082</td>\n",
       "      <td>0.606577</td>\n",
       "      <td>0.283354</td>\n",
       "      <td>0.518430</td>\n",
       "      <td>0.234748</td>\n",
       "      <td>0.399273</td>\n",
       "      <td>0.563470</td>\n",
       "      <td>0.514581</td>\n",
       "    </tr>\n",
       "    <tr>\n",
       "      <th>50%</th>\n",
       "      <td>0.644041</td>\n",
       "      <td>0.655559</td>\n",
       "      <td>0.511664</td>\n",
       "      <td>0.576259</td>\n",
       "      <td>0.497003</td>\n",
       "      <td>0.557021</td>\n",
       "      <td>0.742143</td>\n",
       "      <td>0.699572</td>\n",
       "    </tr>\n",
       "    <tr>\n",
       "      <th>75%</th>\n",
       "      <td>0.754314</td>\n",
       "      <td>0.670344</td>\n",
       "      <td>0.845029</td>\n",
       "      <td>0.594524</td>\n",
       "      <td>0.740011</td>\n",
       "      <td>0.720476</td>\n",
       "      <td>0.815108</td>\n",
       "      <td>0.778447</td>\n",
       "    </tr>\n",
       "    <tr>\n",
       "      <th>max</th>\n",
       "      <td>1.000000</td>\n",
       "      <td>1.000000</td>\n",
       "      <td>1.000000</td>\n",
       "      <td>1.000000</td>\n",
       "      <td>1.000000</td>\n",
       "      <td>1.000000</td>\n",
       "      <td>1.000000</td>\n",
       "      <td>1.000000</td>\n",
       "    </tr>\n",
       "  </tbody>\n",
       "</table>\n",
       "</div>"
      ],
      "text/plain": [
       "             Voltage        Current    Temperature          Power  \\\n",
       "count  118259.000000  118259.000000  118259.000000  118259.000000   \n",
       "mean        0.642341       0.636101       0.524135       0.555323   \n",
       "std         0.150859       0.067816       0.281902       0.078962   \n",
       "min         0.000000       0.000000       0.000000       0.000000   \n",
       "25%         0.542082       0.606577       0.283354       0.518430   \n",
       "50%         0.644041       0.655559       0.511664       0.576259   \n",
       "75%         0.754314       0.670344       0.845029       0.594524   \n",
       "max         1.000000       1.000000       1.000000       1.000000   \n",
       "\n",
       "            Capacity  Voltage Average  Current Average  Power Average  \n",
       "count  118259.000000    118259.000000    118259.000000  118259.000000  \n",
       "mean        0.482904         0.555842         0.665536       0.620162  \n",
       "std         0.289502         0.215397         0.216903       0.230134  \n",
       "min         0.000000         0.000000         0.000000       0.000000  \n",
       "25%         0.234748         0.399273         0.563470       0.514581  \n",
       "50%         0.497003         0.557021         0.742143       0.699572  \n",
       "75%         0.740011         0.720476         0.815108       0.778447  \n",
       "max         1.000000         1.000000         1.000000       1.000000  "
      ]
     },
     "execution_count": 6,
     "metadata": {},
     "output_type": "execute_result"
    }
   ],
   "source": [
    "panasonic_test_norm.describe()"
   ]
  },
  {
   "cell_type": "code",
   "execution_count": 7,
   "id": "80e9f32f-6660-44e8-8253-8dbf4178aaa2",
   "metadata": {
    "tags": []
   },
   "outputs": [],
   "source": [
    "merged_test_norm = pd.concat([lg_test_norm, panasonic_test_norm], ignore_index=True)"
   ]
  },
  {
   "cell_type": "code",
   "execution_count": 8,
   "id": "f66bf59d-23dc-45d6-b729-783c218fd900",
   "metadata": {},
   "outputs": [
    {
     "data": {
      "text/html": [
       "<div>\n",
       "<style scoped>\n",
       "    .dataframe tbody tr th:only-of-type {\n",
       "        vertical-align: middle;\n",
       "    }\n",
       "\n",
       "    .dataframe tbody tr th {\n",
       "        vertical-align: top;\n",
       "    }\n",
       "\n",
       "    .dataframe thead th {\n",
       "        text-align: right;\n",
       "    }\n",
       "</style>\n",
       "<table border=\"1\" class=\"dataframe\">\n",
       "  <thead>\n",
       "    <tr style=\"text-align: right;\">\n",
       "      <th></th>\n",
       "      <th>Voltage</th>\n",
       "      <th>Current</th>\n",
       "      <th>Temperature</th>\n",
       "      <th>Power</th>\n",
       "      <th>Capacity</th>\n",
       "      <th>Voltage Average</th>\n",
       "      <th>Current Average</th>\n",
       "      <th>Power Average</th>\n",
       "    </tr>\n",
       "  </thead>\n",
       "  <tbody>\n",
       "    <tr>\n",
       "      <th>count</th>\n",
       "      <td>231190.000000</td>\n",
       "      <td>231190.000000</td>\n",
       "      <td>231190.000000</td>\n",
       "      <td>231190.000000</td>\n",
       "      <td>231190.000000</td>\n",
       "      <td>231190.000000</td>\n",
       "      <td>231190.000000</td>\n",
       "      <td>231190.000000</td>\n",
       "    </tr>\n",
       "    <tr>\n",
       "      <th>mean</th>\n",
       "      <td>0.637993</td>\n",
       "      <td>0.664017</td>\n",
       "      <td>0.494508</td>\n",
       "      <td>0.586764</td>\n",
       "      <td>0.495294</td>\n",
       "      <td>0.582629</td>\n",
       "      <td>0.713800</td>\n",
       "      <td>0.681639</td>\n",
       "    </tr>\n",
       "    <tr>\n",
       "      <th>std</th>\n",
       "      <td>0.167606</td>\n",
       "      <td>0.084996</td>\n",
       "      <td>0.310087</td>\n",
       "      <td>0.094174</td>\n",
       "      <td>0.284587</td>\n",
       "      <td>0.214463</td>\n",
       "      <td>0.217454</td>\n",
       "      <td>0.236612</td>\n",
       "    </tr>\n",
       "    <tr>\n",
       "      <th>min</th>\n",
       "      <td>0.000000</td>\n",
       "      <td>0.000000</td>\n",
       "      <td>0.000000</td>\n",
       "      <td>0.000000</td>\n",
       "      <td>0.000000</td>\n",
       "      <td>0.000000</td>\n",
       "      <td>0.000000</td>\n",
       "      <td>0.000000</td>\n",
       "    </tr>\n",
       "    <tr>\n",
       "      <th>25%</th>\n",
       "      <td>0.528539</td>\n",
       "      <td>0.622617</td>\n",
       "      <td>0.271137</td>\n",
       "      <td>0.538960</td>\n",
       "      <td>0.257618</td>\n",
       "      <td>0.426285</td>\n",
       "      <td>0.597594</td>\n",
       "      <td>0.565364</td>\n",
       "    </tr>\n",
       "    <tr>\n",
       "      <th>50%</th>\n",
       "      <td>0.640478</td>\n",
       "      <td>0.668205</td>\n",
       "      <td>0.512491</td>\n",
       "      <td>0.591825</td>\n",
       "      <td>0.494320</td>\n",
       "      <td>0.580401</td>\n",
       "      <td>0.774217</td>\n",
       "      <td>0.736153</td>\n",
       "    </tr>\n",
       "    <tr>\n",
       "      <th>75%</th>\n",
       "      <td>0.763254</td>\n",
       "      <td>0.716201</td>\n",
       "      <td>0.845029</td>\n",
       "      <td>0.643955</td>\n",
       "      <td>0.744572</td>\n",
       "      <td>0.754441</td>\n",
       "      <td>0.888894</td>\n",
       "      <td>0.865627</td>\n",
       "    </tr>\n",
       "    <tr>\n",
       "      <th>max</th>\n",
       "      <td>1.000000</td>\n",
       "      <td>1.000000</td>\n",
       "      <td>1.000000</td>\n",
       "      <td>1.000000</td>\n",
       "      <td>1.000000</td>\n",
       "      <td>1.000000</td>\n",
       "      <td>1.000000</td>\n",
       "      <td>1.000000</td>\n",
       "    </tr>\n",
       "  </tbody>\n",
       "</table>\n",
       "</div>"
      ],
      "text/plain": [
       "             Voltage        Current    Temperature          Power  \\\n",
       "count  231190.000000  231190.000000  231190.000000  231190.000000   \n",
       "mean        0.637993       0.664017       0.494508       0.586764   \n",
       "std         0.167606       0.084996       0.310087       0.094174   \n",
       "min         0.000000       0.000000       0.000000       0.000000   \n",
       "25%         0.528539       0.622617       0.271137       0.538960   \n",
       "50%         0.640478       0.668205       0.512491       0.591825   \n",
       "75%         0.763254       0.716201       0.845029       0.643955   \n",
       "max         1.000000       1.000000       1.000000       1.000000   \n",
       "\n",
       "            Capacity  Voltage Average  Current Average  Power Average  \n",
       "count  231190.000000    231190.000000    231190.000000  231190.000000  \n",
       "mean        0.495294         0.582629         0.713800       0.681639  \n",
       "std         0.284587         0.214463         0.217454       0.236612  \n",
       "min         0.000000         0.000000         0.000000       0.000000  \n",
       "25%         0.257618         0.426285         0.597594       0.565364  \n",
       "50%         0.494320         0.580401         0.774217       0.736153  \n",
       "75%         0.744572         0.754441         0.888894       0.865627  \n",
       "max         1.000000         1.000000         1.000000       1.000000  "
      ]
     },
     "execution_count": 8,
     "metadata": {},
     "output_type": "execute_result"
    }
   ],
   "source": [
    "merged_test_norm.describe()"
   ]
  },
  {
   "cell_type": "markdown",
   "id": "5c562a01-519d-4244-8873-0a197f953d71",
   "metadata": {},
   "source": [
    "## Evaluate LG Test data against LG and Combined models"
   ]
  },
  {
   "cell_type": "code",
   "execution_count": 9,
   "id": "7a6a9628-e333-4105-b0f9-58883603007a",
   "metadata": {},
   "outputs": [],
   "source": [
    "model_eval = {}"
   ]
  },
  {
   "cell_type": "code",
   "execution_count": 10,
   "id": "42a37875-6503-4a5f-b532-198603194ef7",
   "metadata": {},
   "outputs": [],
   "source": [
    "# Switch to LG models\n",
    "cell_type = \"lg\""
   ]
  },
  {
   "cell_type": "code",
   "execution_count": 11,
   "id": "e392fbc4-8b88-47b3-80ed-7585574c61c0",
   "metadata": {
    "tags": []
   },
   "outputs": [
    {
     "name": "stderr",
     "output_type": "stream",
     "text": [
      "2023-04-03 02:53:03.345047: W tensorflow/stream_executor/platform/default/dso_loader.cc:64] Could not load dynamic library 'libcuda.so.1'; dlerror: libcuda.so.1: cannot open shared object file: No such file or directory\n",
      "2023-04-03 02:53:03.345107: W tensorflow/stream_executor/cuda/cuda_driver.cc:263] failed call to cuInit: UNKNOWN ERROR (303)\n",
      "2023-04-03 02:53:03.345136: I tensorflow/stream_executor/cuda/cuda_diagnostics.cc:156] kernel driver does not appear to be running on this host (AP-Surface): /proc/driver/nvidia/version does not exist\n",
      "2023-04-03 02:53:03.345509: I tensorflow/core/platform/cpu_feature_guard.cc:193] This TensorFlow binary is optimized with oneAPI Deep Neural Network Library (oneDNN) to use the following CPU instructions in performance-critical operations:  AVX2 FMA\n",
      "To enable them in other operations, rebuild TensorFlow with the appropriate compiler flags.\n"
     ]
    }
   ],
   "source": [
    "## LOAD LG DNN MODEL\n",
    "model_type = \"dnn_model\"\n",
    "pre_trained_path = base_path + 'pre-trained/' + cell_type + '_' + model_type\n",
    "lg_dnn_model = tf.keras.models.load_model(pre_trained_path)"
   ]
  },
  {
   "cell_type": "code",
   "execution_count": 12,
   "id": "8b55633d-c762-4659-8dd7-ff57b15c6372",
   "metadata": {},
   "outputs": [],
   "source": [
    "## LOAD LG CNN MODEL\n",
    "model_type = \"cnn_model\"\n",
    "pre_trained_path = base_path + 'pre-trained/' + cell_type + '_' + model_type\n",
    "lg_cnn_model = tf.keras.models.load_model(pre_trained_path)"
   ]
  },
  {
   "cell_type": "code",
   "execution_count": 13,
   "id": "d166bf9e-1564-4eef-a5d3-4ad838073c5f",
   "metadata": {},
   "outputs": [],
   "source": [
    "# LG test data\n",
    "lg_test_features = lg_test_norm[lg_dnn_cnn_columns].copy()\n",
    "lg_test_labels = lg_test_features.pop('Capacity')\n",
    "\n",
    "# Combined test data\n",
    "merged_test_features = merged_test_norm[lg_dnn_cnn_columns].copy()\n",
    "merged_test_labels = merged_test_features.pop('Capacity')"
   ]
  },
  {
   "cell_type": "code",
   "execution_count": 14,
   "id": "28c46494-fbdc-4e2f-967d-ad4714028519",
   "metadata": {
    "tags": []
   },
   "outputs": [
    {
     "name": "stdout",
     "output_type": "stream",
     "text": [
      "3530/3530 - 5s - loss: 0.0193 - mse: 6.5232e-04 - mae: 0.0193 - mape: 306.0367 - rmse: 0.0255 - 5s/epoch - 2ms/step\n",
      "3530/3530 - 6s - loss: 0.0213 - 6s/epoch - 2ms/step\n",
      "7225/7225 - 11s - loss: 0.0308 - mse: 0.0018 - mae: 0.0308 - mape: 1241606.7500 - rmse: 0.0425 - 11s/epoch - 2ms/step\n",
      "7225/7225 - 11s - loss: 0.0325 - 11s/epoch - 2ms/step\n"
     ]
    }
   ],
   "source": [
    "# Evaluate LG test against LG DNN\n",
    "model_eval['lg_dnn_lg_data'] = lg_dnn_model.evaluate(lg_test_features, lg_test_labels, verbose=2)\n",
    "# Evaluate LG test against LG CNN\n",
    "model_eval['lg_cnn_lg_data'] = lg_cnn_model.evaluate(lg_test_features, lg_test_labels, verbose=2)\n",
    "# Evaluate Combined test against LG DNN\n",
    "model_eval['lg_dnn_merged_data'] = lg_dnn_model.evaluate(merged_test_features, merged_test_labels, verbose=2)\n",
    "# Evaluate Combined test against LG CNN\n",
    "model_eval['lg_cnn_merged_data'] = lg_cnn_model.evaluate(merged_test_features, merged_test_labels, verbose=2)"
   ]
  },
  {
   "cell_type": "code",
   "execution_count": 15,
   "id": "6eb62c62-97b8-4d89-8b1b-6bf9834b4a41",
   "metadata": {},
   "outputs": [],
   "source": [
    "# Switch to combined models\n",
    "cell_type = \"comb\""
   ]
  },
  {
   "cell_type": "code",
   "execution_count": 16,
   "id": "6c370135-a696-4ff1-93b3-edd246fd4df2",
   "metadata": {},
   "outputs": [],
   "source": [
    "## LOAD COMBINED DNN MODEL\n",
    "model_type = \"dnn_model\"\n",
    "pre_trained_path = base_path + 'pre-trained/' + cell_type + '_' + model_type\n",
    "combined_dnn_model = tf.keras.models.load_model(pre_trained_path)"
   ]
  },
  {
   "cell_type": "code",
   "execution_count": 17,
   "id": "9a79fdb8-9733-4075-993c-260c1a622d2b",
   "metadata": {},
   "outputs": [],
   "source": [
    "## LOAD COMBINED CNN MODEL\n",
    "model_type = \"cnn_model\"\n",
    "pre_trained_path = base_path + 'pre-trained/' + cell_type + '_' + model_type\n",
    "combined_cnn_model = tf.keras.models.load_model(pre_trained_path)"
   ]
  },
  {
   "cell_type": "code",
   "execution_count": 18,
   "id": "515ef621-aeee-4e08-97d0-144f3f29adea",
   "metadata": {},
   "outputs": [],
   "source": [
    "# LG test data\n",
    "lg_test_features = lg_test_norm[merged_dnn_cnn_columns].copy()\n",
    "lg_test_labels = lg_test_features.pop('Capacity')\n",
    "\n",
    "# Combined test data\n",
    "merged_test_features = merged_test_norm[merged_dnn_cnn_columns].copy()\n",
    "merged_test_labels = merged_test_features.pop('Capacity')"
   ]
  },
  {
   "cell_type": "code",
   "execution_count": 19,
   "id": "7aae622a-8955-484a-9586-26d1f593e377",
   "metadata": {
    "tags": []
   },
   "outputs": [
    {
     "name": "stdout",
     "output_type": "stream",
     "text": [
      "3530/3530 - 6s - loss: 0.0136 - mse: 2.9189e-04 - mae: 0.0136 - mape: 15.8433 - rmse: 0.0171 - 6s/epoch - 2ms/step\n",
      "3530/3530 - 6s - loss: 0.0110 - 6s/epoch - 2ms/step\n",
      "7225/7225 - 13s - loss: 0.0272 - mse: 0.0015 - mae: 0.0272 - mape: 548015.1250 - rmse: 0.0387 - 13s/epoch - 2ms/step\n",
      "7225/7225 - 12s - loss: 0.0245 - 12s/epoch - 2ms/step\n"
     ]
    }
   ],
   "source": [
    "# Evaluate LG test against LG DNN\n",
    "model_eval['combined_dnn_lg_data'] = combined_dnn_model.evaluate(lg_test_features, lg_test_labels, verbose=2)\n",
    "# Evaluate LG test against LG CNN\n",
    "model_eval['combined_cnn_lg_data'] = combined_cnn_model.evaluate(lg_test_features, lg_test_labels, verbose=2)\n",
    "# Evaluate Combined test against LG DNN\n",
    "model_eval['combined_dnn_merged_data'] = combined_dnn_model.evaluate(merged_test_features, merged_test_labels, verbose=2)\n",
    "# Evaluate Combined test against LG CNN\n",
    "model_eval['combined_cnn_merged_data'] = combined_cnn_model.evaluate(merged_test_features, merged_test_labels, verbose=2)"
   ]
  },
  {
   "cell_type": "markdown",
   "id": "324ec9bf-e0cb-4fc6-b700-63a1401725ea",
   "metadata": {},
   "source": [
    "## Load LG, Merged Test Data (Raw)"
   ]
  },
  {
   "cell_type": "code",
   "execution_count": 20,
   "id": "efe7bc60-31d4-420b-9cc0-61ca0a0b623e",
   "metadata": {},
   "outputs": [],
   "source": [
    "# Raw\n",
    "resample_1hz = False\n",
    "vi_averages = True\n",
    "\n",
    "# Switch to LG models\n",
    "cell_type = \"lg\""
   ]
  },
  {
   "cell_type": "code",
   "execution_count": 21,
   "id": "21a0eedb-2df9-4139-9a4f-ce1a64d3800a",
   "metadata": {},
   "outputs": [
    {
     "name": "stdout",
     "output_type": "stream",
     "text": [
      "../../datasets/LG_18650HG2/25degC/551_UDDS.csv 159646\n",
      "../../datasets/LG_18650HG2/25degC/551_HWFET.csv 6002\n",
      "../../datasets/LG_18650HG2/25degC/551_Mixed1.csv 77227\n",
      "../../datasets/LG_18650HG2/25degC/551_Mixed2.csv 79172\n",
      "../../datasets/LG_18650HG2/10degC/567_Mixed1.csv 72329\n",
      "../../datasets/LG_18650HG2/10degC/567_Mixed2.csv 77752\n",
      "../../datasets/LG_18650HG2/10degC/576_UDDS.csv 148898\n",
      "../../datasets/LG_18650HG2/10degC/576_HWFET.csv 52878\n",
      "../../datasets/LG_18650HG2/0degC/589_UDDS.csv 140435\n",
      "../../datasets/LG_18650HG2/0degC/589_HWFET.csv 49678\n",
      "../../datasets/LG_18650HG2/0degC/589_Mixed1.csv 67312\n",
      "../../datasets/LG_18650HG2/0degC/589_Mixed2.csv 72303\n",
      "../../datasets/LG_18650HG2/n10degC/596_UDDS.csv 123602\n",
      "../../datasets/LG_18650HG2/n10degC/596_HWFET.csv 44903\n",
      "../../datasets/LG_18650HG2/n10degC/601_Mixed1.csv 62622\n",
      "../../datasets/LG_18650HG2/n10degC/601_Mixed2.csv 65254\n",
      "../../datasets/Panasonic_18650PF/0degC/Drive cycles/06-01-17_10.36 0degC_LA92_Pan18650PF.csv 82666\n",
      "../../datasets/Panasonic_18650PF/0degC/Drive cycles/06-01-17_15.36 0degC_Cycle_3_Pan18650PF.csv 62466\n",
      "../../datasets/Panasonic_18650PF/0degC/Drive cycles/06-01-17_22.03 0degC_Cycle_4_Pan18650PF.csv 77052\n",
      "../../datasets/Panasonic_18650PF/0degC/Drive cycles/06-02-17_04.58 0degC_US06_Pan18650PF.csv 36632\n",
      "../../datasets/Panasonic_18650PF/10degC/Drive Cycles/03-27-17_09.06 10degC_LA92_Pan18650PF.csv 125951\n",
      "../../datasets/Panasonic_18650PF/10degC/Drive Cycles/03-27-17_09.06 10degC_US06_Pan18650PF.csv 42000\n",
      "../../datasets/Panasonic_18650PF/10degC/Drive Cycles/04-05-17_17.04 10degC_Cycle_3_Pan18650PF.csv 100796\n",
      "../../datasets/Panasonic_18650PF/10degC/Drive Cycles/04-05-17_22.50 10degC_Cycle_4_Pan18650PF.csv 98987\n",
      "../../datasets/Panasonic_18650PF/25degC/Drive cycles/03-19-17_09.07 25degC_Cycle_3_Pan18650PF.csv 102441\n",
      "../../datasets/Panasonic_18650PF/25degC/Drive cycles/03-19-17_14.31 25degC_Cycle_4_Pan18650PF.csv 120863\n",
      "../../datasets/Panasonic_18650PF/25degC/Drive cycles/03-20-17_01.43 25degC_US06_Pan18650PF.csv 48061\n",
      "../../datasets/Panasonic_18650PF/25degC/Drive cycles/03-21-17_09.38 25degC_LA92_Pan18650PF.csv 140874\n",
      "../../datasets/Panasonic_18650PF/n10degC/Drive Cycles/06-07-17_08.39 n10degC_LA92_Pan18650PF.csv 69568\n",
      "../../datasets/Panasonic_18650PF/n10degC/Drive Cycles/06-07-17_08.39 n10degC_US06_Pan18650PF.csv 31197\n",
      "../../datasets/Panasonic_18650PF/n10degC/Drive Cycles/06-11-17_01.39 n10degC_Cycle_3_Pan18650PF.csv 56857\n",
      "../../datasets/Panasonic_18650PF/n10degC/Drive Cycles/06-11-17_08.42 n10degC_Cycle_4_Pan18650PF.csv 61102\n"
     ]
    }
   ],
   "source": [
    "lg_test_files = utils.lg_get_files(lg_data_path, \n",
    "                                   lg_test_discharge_cycles,\n",
    "                                   lg_charge_cycles, \n",
    "                                   lg_test_temps)\n",
    "\n",
    "panasonic_test_files = utils.panasonic_get_files(panasonic_data_path, \n",
    "                                                 panasonic_test_discharge_cycles,\n",
    "                                                 panasonic_test_temps)\n",
    "\n",
    "for file in panasonic_test_files:\n",
    "    if \"UDDS_LA92\" in file or \"LA92_NN\" in file:\n",
    "        panasonic_test_files.remove(file)\n",
    "        \n",
    "lg_test, lg_test_norm = utils.lg_create_dataset(lg_test_files, \n",
    "                                                lg_test_discharge_cycles, \n",
    "                                                lg_charge_cycles, \n",
    "                                                vi_averages, \n",
    "                                                resample_1hz)\n",
    "\n",
    "panasonic_test, panasonic_test_norm = utils.panasonic_create_dataset(panasonic_test_files, \n",
    "                                                                     panasonic_test_discharge_cycles, \n",
    "                                                                     vi_averages, \n",
    "                                                                     resample_1hz)\n",
    "\n",
    "# create lstm dataset\n",
    "steps = 300\n",
    "\n",
    "lg_test_x, lg_test_y = utils.create_lstm_dataset(lg_test_norm,steps)\n",
    "lg_test_y = utils.keep_only_y_end(lg_test_y, steps)"
   ]
  },
  {
   "cell_type": "code",
   "execution_count": 22,
   "id": "7018eb9c-26b8-4092-ae89-0e20ef01b78c",
   "metadata": {
    "tags": []
   },
   "outputs": [
    {
     "name": "stdout",
     "output_type": "stream",
     "text": [
      "../../datasets/LG_18650HG2/25degC/551_UDDS.csv 159646\n",
      "../../datasets/LG_18650HG2/25degC/551_HWFET.csv 6002\n",
      "../../datasets/LG_18650HG2/25degC/551_Mixed1.csv 77227\n",
      "../../datasets/LG_18650HG2/25degC/551_Mixed2.csv 79172\n",
      "../../datasets/LG_18650HG2/10degC/567_Mixed1.csv 72329\n",
      "../../datasets/LG_18650HG2/10degC/567_Mixed2.csv 77752\n",
      "../../datasets/LG_18650HG2/10degC/576_UDDS.csv 148898\n",
      "../../datasets/LG_18650HG2/10degC/576_HWFET.csv 52878\n",
      "../../datasets/LG_18650HG2/0degC/589_UDDS.csv 140435\n",
      "../../datasets/LG_18650HG2/0degC/589_HWFET.csv 49678\n",
      "../../datasets/LG_18650HG2/0degC/589_Mixed1.csv 67312\n",
      "../../datasets/LG_18650HG2/0degC/589_Mixed2.csv 72303\n",
      "../../datasets/LG_18650HG2/n10degC/596_UDDS.csv 123602\n",
      "../../datasets/LG_18650HG2/n10degC/596_HWFET.csv 44903\n",
      "../../datasets/LG_18650HG2/n10degC/601_Mixed1.csv 62622\n",
      "../../datasets/LG_18650HG2/n10degC/601_Mixed2.csv 65254\n",
      "../../datasets/Panasonic_18650PF/0degC/Drive cycles/06-01-17_10.36 0degC_LA92_Pan18650PF.csv 82666\n",
      "../../datasets/Panasonic_18650PF/0degC/Drive cycles/06-01-17_15.36 0degC_Cycle_3_Pan18650PF.csv 62466\n",
      "../../datasets/Panasonic_18650PF/0degC/Drive cycles/06-01-17_22.03 0degC_Cycle_4_Pan18650PF.csv 77052\n",
      "../../datasets/Panasonic_18650PF/0degC/Drive cycles/06-02-17_04.58 0degC_US06_Pan18650PF.csv 36632\n",
      "../../datasets/Panasonic_18650PF/10degC/Drive Cycles/03-27-17_09.06 10degC_LA92_Pan18650PF.csv 125951\n",
      "../../datasets/Panasonic_18650PF/10degC/Drive Cycles/03-27-17_09.06 10degC_US06_Pan18650PF.csv 42000\n",
      "../../datasets/Panasonic_18650PF/10degC/Drive Cycles/04-05-17_17.04 10degC_Cycle_3_Pan18650PF.csv 100796\n",
      "../../datasets/Panasonic_18650PF/10degC/Drive Cycles/04-05-17_22.50 10degC_Cycle_4_Pan18650PF.csv 98987\n",
      "../../datasets/Panasonic_18650PF/25degC/Drive cycles/03-19-17_09.07 25degC_Cycle_3_Pan18650PF.csv 102441\n",
      "../../datasets/Panasonic_18650PF/25degC/Drive cycles/03-19-17_14.31 25degC_Cycle_4_Pan18650PF.csv 120863\n",
      "../../datasets/Panasonic_18650PF/25degC/Drive cycles/03-20-17_01.43 25degC_US06_Pan18650PF.csv 48061\n",
      "../../datasets/Panasonic_18650PF/25degC/Drive cycles/03-21-17_09.38 25degC_LA92_Pan18650PF.csv 140874\n",
      "../../datasets/Panasonic_18650PF/n10degC/Drive Cycles/06-07-17_08.39 n10degC_LA92_Pan18650PF.csv 69568\n",
      "../../datasets/Panasonic_18650PF/n10degC/Drive Cycles/06-07-17_08.39 n10degC_US06_Pan18650PF.csv 31197\n",
      "../../datasets/Panasonic_18650PF/n10degC/Drive Cycles/06-11-17_01.39 n10degC_Cycle_3_Pan18650PF.csv 56857\n",
      "../../datasets/Panasonic_18650PF/n10degC/Drive Cycles/06-11-17_08.42 n10degC_Cycle_4_Pan18650PF.csv 61102\n"
     ]
    }
   ],
   "source": [
    "lg_test_files = utils.lg_get_files(lg_data_path, \n",
    "                                   lg_test_discharge_cycles,\n",
    "                                   lg_charge_cycles, \n",
    "                                   lg_test_temps)\n",
    "\n",
    "panasonic_test_files = utils.panasonic_get_files(panasonic_data_path, \n",
    "                                                 panasonic_test_discharge_cycles,\n",
    "                                                 panasonic_test_temps)\n",
    "\n",
    "for file in panasonic_test_files:\n",
    "    if \"UDDS_LA92\" in file or \"LA92_NN\" in file:\n",
    "        panasonic_test_files.remove(file)\n",
    "        \n",
    "lg_test, lg_test_norm = utils.lg_create_dataset(lg_test_files, \n",
    "                                                lg_test_discharge_cycles, \n",
    "                                                lg_charge_cycles, \n",
    "                                                vi_averages, \n",
    "                                                resample_1hz)\n",
    "\n",
    "panasonic_test, panasonic_test_norm = utils.panasonic_create_dataset(panasonic_test_files, \n",
    "                                                                     panasonic_test_discharge_cycles, \n",
    "                                                                     vi_averages, \n",
    "                                                                     resample_1hz)\n",
    "\n",
    "merged_test_norm = pd.concat([lg_test_norm, panasonic_test_norm], ignore_index=True)\n",
    "\n",
    "# create lstm dataset\n",
    "steps = 300\n",
    "\n",
    "merged_test_x, merged_test_y = utils.create_lstm_dataset(merged_test_norm,steps)\n",
    "merged_test_y = utils.keep_only_y_end(merged_test_y, steps)"
   ]
  },
  {
   "cell_type": "code",
   "execution_count": 23,
   "id": "cfce32cc-6a30-42d6-820b-af98fd8274f4",
   "metadata": {},
   "outputs": [],
   "source": [
    "## LOAD LG LSTM MODEL\n",
    "model_type = \"lstm_model\"\n",
    "pre_trained_path = base_path + 'pre-trained/' + cell_type + '_' + model_type\n",
    "lg_lstm_model = tf.keras.models.load_model(pre_trained_path)"
   ]
  },
  {
   "cell_type": "code",
   "execution_count": 24,
   "id": "6a5a51de-679b-439b-b733-918446e24b51",
   "metadata": {},
   "outputs": [
    {
     "name": "stdout",
     "output_type": "stream",
     "text": [
      "118/118 - 61s - loss: 0.0028 - mse: 0.0057 - mae: 0.0487 - mape: 999.4768 - rmse: 0.0755 - 61s/epoch - 519ms/step\n",
      "241/241 - 137s - loss: 0.0030 - mse: 0.0061 - mae: 0.0508 - mape: 2463013.5000 - rmse: 0.0780 - 137s/epoch - 567ms/step\n"
     ]
    }
   ],
   "source": [
    "# Evaluate LG test against LG DNN\n",
    "model_eval['lg_lstm_lg_data'] = lg_lstm_model.evaluate(lg_test_x, lg_test_y, verbose=2)\n",
    "# Evaluate LG test against LG CNN\n",
    "model_eval['lg_lstm_combined_data'] = lg_lstm_model.evaluate(merged_test_x, merged_test_y, verbose=2)"
   ]
  },
  {
   "cell_type": "code",
   "execution_count": 25,
   "id": "83d559d4-9971-4054-a872-29d71acf1f7b",
   "metadata": {},
   "outputs": [],
   "source": [
    "# Switch to combined LSTM model\n",
    "cell_type = \"comb\""
   ]
  },
  {
   "cell_type": "code",
   "execution_count": 26,
   "id": "cb743043-0bfc-4ba6-9406-a26403a2ee55",
   "metadata": {},
   "outputs": [],
   "source": [
    "## LOAD COMBINED LSTM MODEL\n",
    "model_type = \"lstm_model\"\n",
    "pre_trained_path = base_path + 'pre-trained/' + cell_type + '_' + model_type\n",
    "combined_lstm_model = tf.keras.models.load_model(pre_trained_path)"
   ]
  },
  {
   "cell_type": "code",
   "execution_count": 27,
   "id": "32b36153-089b-4d1d-a71d-4bd5a1d3f053",
   "metadata": {},
   "outputs": [
    {
     "name": "stdout",
     "output_type": "stream",
     "text": [
      "118/118 - 70s - loss: 0.0011 - mse: 0.0023 - mae: 0.0203 - mape: 228.5857 - rmse: 0.0476 - 70s/epoch - 594ms/step\n",
      "241/241 - 145s - loss: 0.0014 - mse: 0.0028 - mae: 0.0298 - mape: 1500376.2500 - rmse: 0.0528 - 145s/epoch - 604ms/step\n"
     ]
    }
   ],
   "source": [
    "# Evaluate LG test against LG DNN\n",
    "model_eval['combined_lstm_lg_data'] = combined_lstm_model.evaluate(lg_test_x, lg_test_y, verbose=2)\n",
    "# Evaluate LG test against LG CNN\n",
    "model_eval['combined_lstm_combined_data'] = combined_lstm_model.evaluate(merged_test_x, merged_test_y, verbose=2)"
   ]
  },
  {
   "cell_type": "code",
   "execution_count": 28,
   "id": "f33294e3-4b7d-4933-b632-445b46d61290",
   "metadata": {},
   "outputs": [
    {
     "data": {
      "text/plain": [
       "{'lg_dnn_lg_data': [0.019250744953751564,\n",
       "  0.0006523223710246384,\n",
       "  0.019250744953751564,\n",
       "  306.03668212890625,\n",
       "  0.025540603324770927],\n",
       " 'lg_cnn_lg_data': 0.0212621558457613,\n",
       " 'lg_dnn_merged_data': [0.030848322436213493,\n",
       "  0.001809990731999278,\n",
       "  0.030848322436213493,\n",
       "  1241606.75,\n",
       "  0.042543984949588776],\n",
       " 'lg_cnn_merged_data': 0.032491691410541534,\n",
       " 'combined_dnn_lg_data': [0.013580014929175377,\n",
       "  0.0002918858081102371,\n",
       "  0.013580014929175377,\n",
       "  15.843297958374023,\n",
       "  0.017084665596485138],\n",
       " 'combined_cnn_lg_data': 0.011027810163795948,\n",
       " 'combined_dnn_merged_data': [0.027165768668055534,\n",
       "  0.0014998017577454448,\n",
       "  0.027165768668055534,\n",
       "  548015.125,\n",
       "  0.03872727230191231],\n",
       " 'combined_cnn_merged_data': 0.024505220353603363,\n",
       " 'lg_lstm_lg_data': [0.002848092932254076,\n",
       "  0.005696185864508152,\n",
       "  0.04869244247674942,\n",
       "  999.476806640625,\n",
       "  0.07547307759523392],\n",
       " 'lg_lstm_combined_data': [0.003044678596779704,\n",
       "  0.006089357193559408,\n",
       "  0.050846148282289505,\n",
       "  2463013.5,\n",
       "  0.07803433388471603],\n",
       " 'combined_lstm_lg_data': [0.001133809913881123,\n",
       "  0.002267619827762246,\n",
       "  0.02032342553138733,\n",
       "  228.5857391357422,\n",
       "  0.0476195327937603],\n",
       " 'combined_lstm_combined_data': [0.0013944851234555244,\n",
       "  0.002788970246911049,\n",
       "  0.029774488881230354,\n",
       "  1500376.25,\n",
       "  0.052810702472925186]}"
      ]
     },
     "execution_count": 28,
     "metadata": {},
     "output_type": "execute_result"
    }
   ],
   "source": [
    "model_eval"
   ]
  },
  {
   "cell_type": "code",
   "execution_count": null,
   "id": "3c806828-c600-4fb1-b90b-45e542ff07bc",
   "metadata": {},
   "outputs": [],
   "source": []
  }
 ],
 "metadata": {
  "kernelspec": {
   "display_name": "Python 3 (ipykernel)",
   "language": "python",
   "name": "python3"
  },
  "language_info": {
   "codemirror_mode": {
    "name": "ipython",
    "version": 3
   },
   "file_extension": ".py",
   "mimetype": "text/x-python",
   "name": "python",
   "nbconvert_exporter": "python",
   "pygments_lexer": "ipython3",
   "version": "3.9.12"
  },
  "toc-autonumbering": false
 },
 "nbformat": 4,
 "nbformat_minor": 5
}
